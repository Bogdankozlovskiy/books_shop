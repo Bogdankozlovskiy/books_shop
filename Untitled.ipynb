{
 "cells": [
  {
   "cell_type": "code",
   "execution_count": 3,
   "id": "313cc278",
   "metadata": {},
   "outputs": [],
   "source": [
    "import os\n",
    "os.environ[\"DJANGO_ALLOW_ASYNC_UNSAFE\"] = \"true\""
   ]
  },
  {
   "cell_type": "code",
   "execution_count": 4,
   "id": "ce58bf11",
   "metadata": {},
   "outputs": [],
   "source": [
    "from hotel.models import OrderRoom\n",
    "from django.db.models import F\n",
    "from django.db.models.functions import ExtractDay"
   ]
  },
  {
   "cell_type": "code",
   "execution_count": 9,
   "id": "29e032b0",
   "metadata": {},
   "outputs": [
    {
     "data": {
      "text/plain": [
       "Decimal('172.80')"
      ]
     },
     "execution_count": 9,
     "metadata": {},
     "output_type": "execute_result"
    }
   ],
   "source": [
    "query_set = OrderRoom.objects.annotate(duration_days_ = ExtractDay(F('end_date') - F('start_date')))\\\n",
    ".annotate(total_price_=F(\"price\") * F(\"duration_days_\"))\n",
    "\n",
    "query_set.first().total_price_"
   ]
  },
  {
   "cell_type": "code",
   "execution_count": null,
   "id": "0fe0f9fd",
   "metadata": {},
   "outputs": [],
   "source": []
  }
 ],
 "metadata": {
  "kernelspec": {
   "display_name": "Django Shell-Plus",
   "language": "python",
   "name": "django_extensions"
  },
  "language_info": {
   "codemirror_mode": {
    "name": "ipython",
    "version": 3
   },
   "file_extension": ".py",
   "mimetype": "text/x-python",
   "name": "python",
   "nbconvert_exporter": "python",
   "pygments_lexer": "ipython3",
   "version": "3.9.9"
  }
 },
 "nbformat": 4,
 "nbformat_minor": 5
}
