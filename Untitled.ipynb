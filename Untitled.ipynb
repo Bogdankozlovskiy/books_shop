{
 "cells": [
  {
   "cell_type": "code",
   "execution_count": 1,
   "id": "cdae7a9a",
   "metadata": {},
   "outputs": [],
   "source": [
    "from myapp.models import Book"
   ]
  },
  {
   "cell_type": "code",
   "execution_count": 2,
   "id": "5b39c947",
   "metadata": {},
   "outputs": [
    {
     "data": {
      "text/plain": [
       "<QuerySet [<Book: new book>]>"
      ]
     },
     "execution_count": 2,
     "metadata": {},
     "output_type": "execute_result"
    }
   ],
   "source": [
    "Book.objects.all()"
   ]
  },
  {
   "cell_type": "code",
   "execution_count": 3,
   "id": "7851c05c",
   "metadata": {},
   "outputs": [],
   "source": [
    "from rest_framework import serializers"
   ]
  },
  {
   "cell_type": "code",
   "execution_count": 4,
   "id": "0154d9f6",
   "metadata": {},
   "outputs": [],
   "source": [
    "class TestSerializer(serializers.Serializer):\n",
    "    title = serializers.CharField()"
   ]
  },
  {
   "cell_type": "code",
   "execution_count": null,
   "id": "0718181c",
   "metadata": {},
   "outputs": [],
   "source": [
    "Tese"
   ]
  }
 ],
 "metadata": {
  "kernelspec": {
   "display_name": "Django Shell-Plus",
   "language": "python",
   "name": "django_extensions"
  },
  "language_info": {
   "codemirror_mode": {
    "name": "ipython",
    "version": 3
   },
   "file_extension": ".py",
   "mimetype": "text/x-python",
   "name": "python",
   "nbconvert_exporter": "python",
   "pygments_lexer": "ipython3",
   "version": "3.9.9"
  }
 },
 "nbformat": 4,
 "nbformat_minor": 5
}
