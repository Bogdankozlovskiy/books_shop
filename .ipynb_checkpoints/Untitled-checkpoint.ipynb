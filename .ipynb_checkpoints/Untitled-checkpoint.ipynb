{
 "cells": [
  {
   "cell_type": "code",
   "execution_count": 1,
   "id": "313cc278",
   "metadata": {},
   "outputs": [],
   "source": [
    "import os\n",
    "os.environ[\"DJANGO_ALLOW_ASYNC_UNSAFE\"] = \"true\""
   ]
  },
  {
   "cell_type": "code",
   "execution_count": 2,
   "id": "8680ea22",
   "metadata": {},
   "outputs": [],
   "source": [
    "from web_chat.models import ChatMessage\n",
    "from web_chat.serializers import ChatMessageSerializer"
   ]
  },
  {
   "cell_type": "code",
   "execution_count": 29,
   "id": "3998a9ad",
   "metadata": {},
   "outputs": [],
   "source": [
    "from rest_framework.serializers import ModelSerializer, DateTimeField, CharField\n",
    "\n",
    "class ChatMessageSerializer(ModelSerializer):\n",
    "    date = DateTimeField(read_only=True, format=\"%d %B %Y y. %H:%M\")\n",
    "    user = CharField(source=\"user.username\")\n",
    "\n",
    "    class Meta:\n",
    "        model = ChatMessage\n",
    "        fields = [\"text\", \"date\", \"user\"]"
   ]
  },
  {
   "cell_type": "code",
   "execution_count": 30,
   "id": "b20541e8",
   "metadata": {},
   "outputs": [
    {
     "data": {
      "text/plain": [
       "{'text': 'hello', 'date': '30 December 2021 y. 17:23', 'user': 'bogdan'}"
      ]
     },
     "execution_count": 30,
     "metadata": {},
     "output_type": "execute_result"
    }
   ],
   "source": [
    "msg = ChatMessage.objects.all().first()\n",
    "\n",
    "\n",
    "ChatMessageSerializer(msg).data"
   ]
  },
  {
   "cell_type": "code",
   "execution_count": null,
   "id": "15d2f5f8",
   "metadata": {},
   "outputs": [],
   "source": []
  }
 ],
 "metadata": {
  "kernelspec": {
   "display_name": "Django Shell-Plus",
   "language": "python",
   "name": "django_extensions"
  },
  "language_info": {
   "codemirror_mode": {
    "name": "ipython",
    "version": 3
   },
   "file_extension": ".py",
   "mimetype": "text/x-python",
   "name": "python",
   "nbconvert_exporter": "python",
   "pygments_lexer": "ipython3",
   "version": "3.8.6"
  }
 },
 "nbformat": 4,
 "nbformat_minor": 5
}
