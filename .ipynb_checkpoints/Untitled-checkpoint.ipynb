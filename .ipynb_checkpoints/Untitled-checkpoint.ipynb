{
 "cells": [
  {
   "cell_type": "code",
   "execution_count": 2,
   "id": "313cc278",
   "metadata": {},
   "outputs": [],
   "source": [
    "import os\n",
    "os.environ[\"DJANGO_ALLOW_ASYNC_UNSAFE\"] = \"true\""
   ]
  },
  {
   "cell_type": "code",
   "execution_count": 4,
   "id": "ce58bf11",
   "metadata": {},
   "outputs": [],
   "source": [
    "from hotel.models import OrderRoom\n",
    "from django.db.models import F\n",
    "from django.db.models.functions import ExtractDay"
   ]
  },
  {
   "cell_type": "code",
   "execution_count": 9,
   "id": "29e032b0",
   "metadata": {},
   "outputs": [
    {
     "data": {
      "text/plain": [
       "Decimal('172.80')"
      ]
     },
     "execution_count": 9,
     "metadata": {},
     "output_type": "execute_result"
    }
   ],
   "source": [
    "query_set = OrderRoom.objects.annotate(duration_days_ = ExtractDay(F('end_date') - F('start_date')))\\\n",
    ".annotate(total_price_=F(\"price\") * F(\"duration_days_\"))\n",
    "\n",
    "query_set.first().total_price_"
   ]
  },
  {
   "cell_type": "code",
   "execution_count": 2,
   "id": "0fe0f9fd",
   "metadata": {},
   "outputs": [],
   "source": [
    "from myapp.models import Book"
   ]
  },
  {
   "cell_type": "code",
   "execution_count": 4,
   "id": "c8143faf",
   "metadata": {},
   "outputs": [],
   "source": [
    "t = Book.objects.all().first()"
   ]
  },
  {
   "cell_type": "code",
   "execution_count": 5,
   "id": "89924fe1",
   "metadata": {},
   "outputs": [
    {
     "data": {
      "text/plain": [
       "<Book: name 2>"
      ]
     },
     "execution_count": 5,
     "metadata": {},
     "output_type": "execute_result"
    }
   ],
   "source": [
    "t.get_next_by_publish_date()"
   ]
  },
  {
   "cell_type": "code",
   "execution_count": 6,
   "id": "c06c4ad2",
   "metadata": {},
   "outputs": [],
   "source": [
    "t.get_deferred_fields?"
   ]
  },
  {
   "cell_type": "code",
   "execution_count": 12,
   "id": "b493fdb3",
   "metadata": {},
   "outputs": [
    {
     "data": {
      "text/plain": [
       "<Book: name 2>"
      ]
     },
     "execution_count": 12,
     "metadata": {},
     "output_type": "execute_result"
    }
   ],
   "source": [
    "t.get_previous_by_publish_date(is_next=9)"
   ]
  },
  {
   "cell_type": "code",
   "execution_count": 7,
   "id": "9a4173c6",
   "metadata": {},
   "outputs": [
    {
     "data": {
      "text/plain": [
       "<QuerySet [1]>"
      ]
     },
     "execution_count": 7,
     "metadata": {},
     "output_type": "execute_result"
    }
   ],
   "source": [
    "t.get_comment_order()"
   ]
  },
  {
   "cell_type": "markdown",
   "id": "26ccd2d0",
   "metadata": {},
   "source": [
    "SQL functions\n",
    "---"
   ]
  },
  {
   "cell_type": "code",
   "execution_count": 45,
   "id": "9c00cc45",
   "metadata": {},
   "outputs": [],
   "source": [
    "from django.db.models import functions\n",
    "from django.db import models\n",
    "from myapp.models import Book, RateBookUser, OrderBookUser, Comment\n",
    "from django.contrib.auth.models import User\n",
    "import pandas as pd"
   ]
  },
  {
   "cell_type": "code",
   "execution_count": 3,
   "id": "41cc8f8d",
   "metadata": {},
   "outputs": [
    {
     "data": {
      "text/plain": [
       "<QuerySet [{'ordd': 0}, {'ordd': 0}, {'ordd': 0}]>"
      ]
     },
     "execution_count": 3,
     "metadata": {},
     "output_type": "execute_result"
    }
   ],
   "source": [
    "# Coalesce\n",
    "\n",
    "Book.objects.annotate(\n",
    "    ordd=functions.Coalesce(\n",
    "        \"order\", \n",
    "        models.Value(\"0\"),\n",
    "        output_field=models.CharField()\n",
    "    )\n",
    ").values(\"ordd\")"
   ]
  },
  {
   "cell_type": "code",
   "execution_count": 4,
   "id": "ff0b2b2e",
   "metadata": {},
   "outputs": [
    {
     "data": {
      "text/plain": [
       "<QuerySet [{'gt': 3.2}, {'gt': 2.5}, {'gt': 4.5}]>"
      ]
     },
     "execution_count": 4,
     "metadata": {},
     "output_type": "execute_result"
    }
   ],
   "source": [
    "# Greatest\n",
    "\n",
    "Book.objects.annotate(\n",
    "    gt=functions.Greatest(\n",
    "        \"price\",\n",
    "        2.5,\n",
    "        output_field=models.FloatField()\n",
    "    )\n",
    ").values(\"gt\")"
   ]
  },
  {
   "cell_type": "code",
   "execution_count": 5,
   "id": "dc4ccba4",
   "metadata": {},
   "outputs": [
    {
     "data": {
      "text/plain": [
       "<QuerySet [{'lt': 2.5}, {'lt': 2.2}, {'lt': 2.5}]>"
      ]
     },
     "execution_count": 5,
     "metadata": {},
     "output_type": "execute_result"
    }
   ],
   "source": [
    "# Least\n",
    "\n",
    "Book.objects.annotate(\n",
    "    lt=functions.Least(\n",
    "        \"price\",\n",
    "        2.5,\n",
    "        output_field=models.FloatField()\n",
    "    )\n",
    ").values(\"lt\")"
   ]
  },
  {
   "cell_type": "code",
   "execution_count": 6,
   "id": "c7027de0",
   "metadata": {},
   "outputs": [
    {
     "data": {
      "text/plain": [
       "<QuerySet [{'nt': '3.20'}, {'nt': '2.20'}, {'nt': '4.50'}]>"
      ]
     },
     "execution_count": 6,
     "metadata": {},
     "output_type": "execute_result"
    }
   ],
   "source": [
    "# Cast\n",
    "\n",
    "Book.objects.annotate(\n",
    "    nt=functions.Cast(\n",
    "        \"price\",\n",
    "        output_field=models.CharField()\n",
    "    )\n",
    ").values(\"nt\")"
   ]
  },
  {
   "cell_type": "code",
   "execution_count": 7,
   "id": "af6d4ea7",
   "metadata": {},
   "outputs": [
    {
     "data": {
      "text/plain": [
       "<QuerySet [{'row': 'new value (3.20)'}, {'row': 'new value (2.20)'}, {'row': 'new value (4.50)'}]>"
      ]
     },
     "execution_count": 7,
     "metadata": {},
     "output_type": "execute_result"
    }
   ],
   "source": [
    "# Concat\n",
    "Book.objects.annotate(\n",
    "    row=functions.Concat(\n",
    "        models.Value(\"new value (\"),\n",
    "        functions.Cast(\"price\", output_field=models.CharField()),\n",
    "        models.Value(\")\")\n",
    "    )\n",
    ").values(\"row\")"
   ]
  },
  {
   "cell_type": "code",
   "execution_count": 8,
   "id": "1099df39",
   "metadata": {},
   "outputs": [
    {
     "data": {
      "text/plain": [
       "<QuerySet [{'title': '   name 2', 'lower_title': '   name 2'}, {'title': 'naME 1.   ', 'lower_title': 'name 1.   '}, {'title': 'NTae 4.', 'lower_title': 'ntae 4.'}]>"
      ]
     },
     "execution_count": 8,
     "metadata": {},
     "output_type": "execute_result"
    }
   ],
   "source": [
    "# Lower\n",
    "Book.objects.annotate(\n",
    "    lower_title=functions.Lower(\n",
    "        \"title\"\n",
    "    )\n",
    ").values(\"title\", \"lower_title\")"
   ]
  },
  {
   "cell_type": "code",
   "execution_count": 9,
   "id": "1ea95452",
   "metadata": {},
   "outputs": [
    {
     "data": {
      "text/plain": [
       "<QuerySet [{'title': '   name 2', 'upper_title': '   NAME 2'}, {'title': 'naME 1.   ', 'upper_title': 'NAME 1.   '}, {'title': 'NTae 4.', 'upper_title': 'NTAE 4.'}]>"
      ]
     },
     "execution_count": 9,
     "metadata": {},
     "output_type": "execute_result"
    }
   ],
   "source": [
    "# Upper\n",
    "Book.objects.annotate(\n",
    "    upper_title=functions.Upper(\n",
    "        \"title\"\n",
    "    )\n",
    ").values(\"title\", \"upper_title\")"
   ]
  },
  {
   "cell_type": "code",
   "execution_count": 10,
   "id": "994e74fe",
   "metadata": {},
   "outputs": [
    {
     "data": {
      "text/plain": [
       "<QuerySet [{'new_title': '   name 2  501'}, {'new_title': 'naME 1.     501'}, {'new_title': 'NTae 4.  1006'}]>"
      ]
     },
     "execution_count": 10,
     "metadata": {},
     "output_type": "execute_result"
    }
   ],
   "source": [
    "# Length\n",
    "Book.objects.annotate(\n",
    "    new_title=functions.Concat(\n",
    "        \"title\", \n",
    "        models.Value(\"  \"),\n",
    "        functions.Cast(\n",
    "            functions.Length(\"text\"),\n",
    "            output_field=models.CharField()\n",
    "        )\n",
    "    )\n",
    ").values(\"new_title\")"
   ]
  },
  {
   "cell_type": "code",
   "execution_count": 11,
   "id": "d8ba99d8",
   "metadata": {},
   "outputs": [
    {
     "data": {
      "text/plain": [
       "<QuerySet [{'index': 0}, {'index': 0}, {'index': 580}]>"
      ]
     },
     "execution_count": 11,
     "metadata": {},
     "output_type": "execute_result"
    }
   ],
   "source": [
    "# Strlndex\n",
    "Book.objects.annotate(\n",
    "    index=functions.StrIndex(\n",
    "        \"text\",\n",
    "        models.Value(\"Dick\")\n",
    "    )\n",
    ").values(\"index\")"
   ]
  },
  {
   "cell_type": "code",
   "execution_count": 12,
   "id": "8456e488",
   "metadata": {},
   "outputs": [
    {
     "data": {
      "text/plain": [
       "<QuerySet [{'sub_value': ''}, {'sub_value': ''}, {'sub_value': 'Dick\\r\\n115.'}]>"
      ]
     },
     "execution_count": 12,
     "metadata": {},
     "output_type": "execute_result"
    }
   ],
   "source": [
    "# SuЬstr\n",
    "Book.objects.annotate(\n",
    "    sub_value=functions.Substr(\n",
    "        \"text\",\n",
    "        580,\n",
    "        10\n",
    "    )\n",
    ").values(\"sub_value\")"
   ]
  },
  {
   "cell_type": "code",
   "execution_count": 13,
   "id": "c7553d7f",
   "metadata": {},
   "outputs": [
    {
     "data": {
      "text/plain": [
       "<QuerySet [{'left': '162.255.37.11 (US We'}, {'left': '162.255.37.11 (US We'}, {'left': '162.255.37.11 (US We'}]>"
      ]
     },
     "execution_count": 13,
     "metadata": {},
     "output_type": "execute_result"
    }
   ],
   "source": [
    "# Left\n",
    "Book.objects.annotate(\n",
    "    left=functions.Left(\n",
    "        \"text\",\n",
    "        20\n",
    "    )\n",
    ").values(\"left\")"
   ]
  },
  {
   "cell_type": "code",
   "execution_count": 14,
   "id": "388c3adb",
   "metadata": {},
   "outputs": [
    {
     "data": {
      "text/plain": [
       "<QuerySet [{'right': '88\\r\\nPasscode: 374997'}, {'right': '88\\r\\nPasscode: 374997'}, {'right': '88\\r\\nPasscode: 374997'}]>"
      ]
     },
     "execution_count": 14,
     "metadata": {},
     "output_type": "execute_result"
    }
   ],
   "source": [
    "# Right\n",
    "Book.objects.annotate(\n",
    "    right=functions.Right(\n",
    "        \"text\",\n",
    "        20\n",
    "    )\n",
    ").values(\"right\")"
   ]
  },
  {
   "cell_type": "code",
   "execution_count": 15,
   "id": "70fb178c",
   "metadata": {},
   "outputs": [
    {
     "data": {
      "text/plain": [
       "<QuerySet [{'new_text': ''}, {'new_text': ''}, {'new_text': 'Big\\r\\n115.1'}]>"
      ]
     },
     "execution_count": 15,
     "metadata": {},
     "output_type": "execute_result"
    }
   ],
   "source": [
    "# Replace\n",
    "Book.objects.annotate(\n",
    "    new_sub_text=functions.Replace(\n",
    "        \"text\",\n",
    "        models.Value(\"Dick\"),\n",
    "        models.Value(\"Big\"),\n",
    "        output_field=models.TextField()\n",
    "    )\n",
    ").annotate(\n",
    "    new_text=functions.Substr(\n",
    "        \"new_sub_text\",\n",
    "        580,\n",
    "        10\n",
    "    )\n",
    ").values(\"new_text\")"
   ]
  },
  {
   "cell_type": "code",
   "execution_count": 16,
   "id": "4efc9622",
   "metadata": {},
   "outputs": [
    {
     "data": {
      "text/plain": [
       "<QuerySet [{'new_title': '   name 2   name 2   name 2   name 2'}, {'new_title': 'naME 1.   naME 1.   naME 1.   naME 1.   '}, {'new_title': 'NTae 4.NTae 4.NTae 4.NTae 4.'}]>"
      ]
     },
     "execution_count": 16,
     "metadata": {},
     "output_type": "execute_result"
    }
   ],
   "source": [
    "# Repeat\n",
    "Book.objects.annotate(\n",
    "    new_title=functions.Repeat(\n",
    "        \"title\", 4\n",
    "    )\n",
    ").values(\"new_title\")"
   ]
  },
  {
   "cell_type": "code",
   "execution_count": 17,
   "id": "3d6eeb06",
   "metadata": {},
   "outputs": [
    {
     "data": {
      "text/plain": [
       "<QuerySet [{'new_title': '______   name 2'}, {'new_title': '_____naME 1.   '}, {'new_title': '________NTae 4.'}]>"
      ]
     },
     "execution_count": 17,
     "metadata": {},
     "output_type": "execute_result"
    }
   ],
   "source": [
    "# LPad\n",
    "\n",
    "Book.objects.annotate(\n",
    "    new_title=functions.LPad(\n",
    "        \"title\",\n",
    "        15,\n",
    "        models.Value(\"_\")\n",
    "    )\n",
    ").values(\"new_title\")"
   ]
  },
  {
   "cell_type": "code",
   "execution_count": 18,
   "id": "2499a15f",
   "metadata": {},
   "outputs": [
    {
     "data": {
      "text/plain": [
       "<QuerySet [{'new_title': '   name 2______'}, {'new_title': 'naME 1.   _____'}, {'new_title': 'NTae 4.________'}]>"
      ]
     },
     "execution_count": 18,
     "metadata": {},
     "output_type": "execute_result"
    }
   ],
   "source": [
    "# RPad\n",
    "\n",
    "Book.objects.annotate(\n",
    "    new_title=functions.RPad(\n",
    "        \"title\",\n",
    "        15,\n",
    "        models.Value(\"_\")\n",
    "    )\n",
    ").values(\"new_title\")"
   ]
  },
  {
   "cell_type": "code",
   "execution_count": 19,
   "id": "60245369",
   "metadata": {},
   "outputs": [
    {
     "data": {
      "text/plain": [
       "<QuerySet [{'title': '   name 2', 'trimed_title': 'name 2'}, {'title': 'naME 1.   ', 'trimed_title': 'naME 1.'}, {'title': 'NTae 4.', 'trimed_title': 'NTae 4.'}]>"
      ]
     },
     "execution_count": 19,
     "metadata": {},
     "output_type": "execute_result"
    }
   ],
   "source": [
    "# Trim\n",
    "Book.objects.annotate(\n",
    "    trimed_title=functions.Trim(\n",
    "        \"title\"\n",
    "    )\n",
    ").values(\"trimed_title\", \"title\")"
   ]
  },
  {
   "cell_type": "code",
   "execution_count": 20,
   "id": "3d88a2a6",
   "metadata": {},
   "outputs": [
    {
     "data": {
      "text/plain": [
       "<QuerySet [{'title': '   name 2', 'trimed_title': 'name 2'}, {'title': 'naME 1.   ', 'trimed_title': 'naME 1.   '}, {'title': 'NTae 4.', 'trimed_title': 'NTae 4.'}]>"
      ]
     },
     "execution_count": 20,
     "metadata": {},
     "output_type": "execute_result"
    }
   ],
   "source": [
    "# LTrim\n",
    "Book.objects.annotate(\n",
    "    trimed_title=functions.LTrim(\n",
    "        \"title\"\n",
    "    )\n",
    ").values(\"trimed_title\", \"title\")"
   ]
  },
  {
   "cell_type": "code",
   "execution_count": 21,
   "id": "258f41d1",
   "metadata": {},
   "outputs": [
    {
     "data": {
      "text/plain": [
       "<QuerySet [{'title': '   name 2', 'trimed_title': '   name 2'}, {'title': 'naME 1.   ', 'trimed_title': 'naME 1.'}, {'title': 'NTae 4.', 'trimed_title': 'NTae 4.'}]>"
      ]
     },
     "execution_count": 21,
     "metadata": {},
     "output_type": "execute_result"
    }
   ],
   "source": [
    "# RTrim\n",
    "Book.objects.annotate(\n",
    "    trimed_title=functions.RTrim(\n",
    "        \"title\"\n",
    "    )\n",
    ").values(\"trimed_title\", \"title\")"
   ]
  },
  {
   "cell_type": "code",
   "execution_count": 22,
   "id": "a0a95465",
   "metadata": {},
   "outputs": [
    {
     "data": {
      "text/plain": [
       "<QuerySet [{'request_date': datetime.datetime(2022, 1, 15, 12, 33, 37, 670510, tzinfo=<UTC>)}, {'request_date': datetime.datetime(2022, 1, 15, 12, 33, 37, 670510, tzinfo=<UTC>)}, {'request_date': datetime.datetime(2022, 1, 15, 12, 33, 37, 670510, tzinfo=<UTC>)}]>"
      ]
     },
     "execution_count": 22,
     "metadata": {},
     "output_type": "execute_result"
    }
   ],
   "source": [
    "# Now\n",
    "Book.objects.annotate(\n",
    "    request_date=functions.Now()\n",
    ").values(\"request_date\")"
   ]
  },
  {
   "cell_type": "code",
   "execution_count": 23,
   "id": "e9c520ff",
   "metadata": {},
   "outputs": [
    {
     "data": {
      "text/plain": [
       "<QuerySet [{'day_of_request': 15, 'day_of_create': 11}, {'day_of_request': 15, 'day_of_create': 15}, {'day_of_request': 15, 'day_of_create': 15}]>"
      ]
     },
     "execution_count": 23,
     "metadata": {},
     "output_type": "execute_result"
    }
   ],
   "source": [
    "# Extract\n",
    "Book.objects.annotate(\n",
    "    day_of_request=functions.Extract(\n",
    "        functions.Now(),\n",
    "        \"day\"\n",
    "    ),\n",
    "    day_of_create=functions.Extract(\n",
    "        \"publish_date\",\n",
    "        \"day\"\n",
    "    )\n",
    ").values(\"day_of_request\", \"day_of_create\")\n",
    "# functions.ExtractDay\n",
    "# functions.ExtractHour\n",
    "# functions.ExtractIsoWeekDay\n",
    "# functions.ExtractIsoYear\n",
    "# functions.ExtractMinute\n",
    "# functions.ExtractMonth\n",
    "# functions.ExtractQuarter\n",
    "# functions.ExtractSecond\n",
    "# functions.ExtractWeek\n",
    "# functions.ExtractWeekDay\n",
    "# functions.ExtractYear"
   ]
  },
  {
   "cell_type": "code",
   "execution_count": 24,
   "id": "364db446",
   "metadata": {},
   "outputs": [
    {
     "data": {
      "text/plain": [
       "<QuerySet [{'test': datetime.date(2022, 1, 1)}, {'test': datetime.date(2022, 1, 1)}, {'test': datetime.date(2022, 1, 1)}]>"
      ]
     },
     "execution_count": 24,
     "metadata": {},
     "output_type": "execute_result"
    }
   ],
   "source": [
    "# Trunc\n",
    "Book.objects.annotate(\n",
    "    test=functions.Trunc(\n",
    "        \"publish_date\",\n",
    "        \"month\"\n",
    "    )\n",
    ").values(\"test\")\n",
    "# functions.TruncDate\n",
    "# functions.TruncDay\n",
    "# functions.TruncHour\n",
    "# functions.TruncMinute\n",
    "# functions.TruncMonth\n",
    "# functions.TruncYear\n",
    "# functions.TruncQuarter\n",
    "# functions.TruncSecond\n",
    "# functions.TruncWeek\n",
    "# functions.TruncTime"
   ]
  },
  {
   "cell_type": "code",
   "execution_count": 25,
   "id": "1b68a4a9",
   "metadata": {},
   "outputs": [
    {
     "data": {
      "text/plain": [
       "<QuerySet [{'reversed_title': '2 eman   '}, {'reversed_title': '   .1 EMan'}, {'reversed_title': '.4 eaTN'}]>"
      ]
     },
     "execution_count": 25,
     "metadata": {},
     "output_type": "execute_result"
    }
   ],
   "source": [
    "# Reverse\n",
    "Book.objects.annotate(\n",
    "    reversed_title=functions.Reverse(\"title\")\n",
    ").values(\"reversed_title\")"
   ]
  },
  {
   "cell_type": "code",
   "execution_count": 26,
   "id": "aeb89783",
   "metadata": {},
   "outputs": [
    {
     "data": {
      "text/plain": [
       "<QuerySet [{'md5': 'b5214ece3ff079fc97d8d307637df467'}, {'md5': '0ae83ba6c266831a5a5c103ce664d210'}, {'md5': 'ff0260c766e665090f273aa1a98db181'}]>"
      ]
     },
     "execution_count": 26,
     "metadata": {},
     "output_type": "execute_result"
    }
   ],
   "source": [
    "# MD5\n",
    "\n",
    "Book.objects.annotate(\n",
    "    md5=functions.MD5(\"title\")\n",
    ").values(\"md5\")"
   ]
  },
  {
   "cell_type": "code",
   "execution_count": 27,
   "id": "d1296398",
   "metadata": {},
   "outputs": [
    {
     "data": {
      "text/plain": [
       "<QuerySet [{'price_description': 'Medium price'}, {'price_description': 'Good price'}, {'price_description': 'High price'}]>"
      ]
     },
     "execution_count": 27,
     "metadata": {},
     "output_type": "execute_result"
    }
   ],
   "source": [
    "# Case When\n",
    "Book.objects.annotate(\n",
    "    price_description=models.Case(\n",
    "        models.When(price__gte=3.5, then=models.Value(\"High price\")),\n",
    "        models.When(price__gte=3, then=models.Value(\"Medium price\")),\n",
    "        default=models.Value(\"Good price\"),\n",
    "        output_field=models.CharField()\n",
    "    )\n",
    ").values(\"price_description\")"
   ]
  },
  {
   "cell_type": "code",
   "execution_count": 29,
   "id": "6421ab91",
   "metadata": {},
   "outputs": [
    {
     "data": {
      "text/html": [
       "<div>\n",
       "<style scoped>\n",
       "    .dataframe tbody tr th:only-of-type {\n",
       "        vertical-align: middle;\n",
       "    }\n",
       "\n",
       "    .dataframe tbody tr th {\n",
       "        vertical-align: top;\n",
       "    }\n",
       "\n",
       "    .dataframe thead th {\n",
       "        text-align: right;\n",
       "    }\n",
       "</style>\n",
       "<table border=\"1\" class=\"dataframe\">\n",
       "  <thead>\n",
       "    <tr style=\"text-align: right;\">\n",
       "      <th></th>\n",
       "      <th>is_author</th>\n",
       "      <th>is_rated</th>\n",
       "      <th>is_ordered</th>\n",
       "      <th>my_rate</th>\n",
       "    </tr>\n",
       "  </thead>\n",
       "  <tbody>\n",
       "    <tr>\n",
       "      <th>0</th>\n",
       "      <td>True</td>\n",
       "      <td>False</td>\n",
       "      <td>False</td>\n",
       "      <td>NaN</td>\n",
       "    </tr>\n",
       "    <tr>\n",
       "      <th>1</th>\n",
       "      <td>True</td>\n",
       "      <td>True</td>\n",
       "      <td>False</td>\n",
       "      <td>3.0</td>\n",
       "    </tr>\n",
       "    <tr>\n",
       "      <th>2</th>\n",
       "      <td>False</td>\n",
       "      <td>True</td>\n",
       "      <td>False</td>\n",
       "      <td>4.0</td>\n",
       "    </tr>\n",
       "  </tbody>\n",
       "</table>\n",
       "</div>"
      ],
      "text/plain": [
       "   is_author  is_rated  is_ordered  my_rate\n",
       "0       True     False       False      NaN\n",
       "1       True      True       False      3.0\n",
       "2      False      True       False      4.0"
      ]
     },
     "execution_count": 29,
     "metadata": {},
     "output_type": "execute_result"
    }
   ],
   "source": [
    "# Exists | Subquery\n",
    "\n",
    "query_set = Book.objects.annotate(\n",
    "    is_author=models.Exists(\n",
    "        Book.objects.filter(\n",
    "            authors__id=2, \n",
    "            pk=models.OuterRef(\"pk\")\n",
    "        )\n",
    "    ),\n",
    "    is_rated=models.Exists(\n",
    "        RateBookUser.objects.filter(\n",
    "            user_id=2,\n",
    "            book=models.OuterRef(\"pk\")\n",
    "        )\n",
    "    ),\n",
    "    is_ordered=models.Exists(\n",
    "        OrderBookUser.objects.filter(\n",
    "            user_id=2,\n",
    "            book=models.OuterRef(\"pk\")\n",
    "        )\n",
    "    ),\n",
    "    my_rate=models.Subquery(\n",
    "        RateBookUser.objects.filter(\n",
    "            user_id=2,\n",
    "            book=models.OuterRef(\"pk\")\n",
    "        ).values(\"rate\")\n",
    "    )\n",
    ")\n",
    "\n",
    "pd.DataFrame(query_set.values(\"is_author\", \"is_rated\", \"is_ordered\", \"my_rate\"))"
   ]
  },
  {
   "cell_type": "code",
   "execution_count": 49,
   "id": "ad66c4b7",
   "metadata": {},
   "outputs": [
    {
     "name": "stdout",
     "output_type": "stream",
     "text": [
      "<QuerySet [datetime.date(2022, 1, 11), datetime.date(2022, 1, 15)]>\n",
      "<QuerySet [datetime.date(2022, 1, 1)]>\n"
     ]
    }
   ],
   "source": [
    "# dates\n",
    "print(Book.objects.dates(\"publish_date\", \"day\"))\n",
    "print(Book.objects.dates(\"publish_date\", \"year\"))"
   ]
  },
  {
   "cell_type": "code",
   "execution_count": 48,
   "id": "13854ed5",
   "metadata": {},
   "outputs": [
    {
     "name": "stdout",
     "output_type": "stream",
     "text": [
      "<QuerySet [datetime.datetime(2022, 1, 11, 0, 0, tzinfo=<DstTzInfo 'Europe/Warsaw' CET+1:00:00 STD>)]>\n",
      "<QuerySet [datetime.datetime(2022, 1, 1, 0, 0, tzinfo=<DstTzInfo 'Europe/Warsaw' CET+1:00:00 STD>)]>\n"
     ]
    }
   ],
   "source": [
    "# datetimes\n",
    "print(Comment.objects.datetimes(\"date\", \"day\"))\n",
    "print(Comment.objects.datetimes(\"date\", \"year\"))"
   ]
  },
  {
   "cell_type": "code",
   "execution_count": 55,
   "id": "a1c931e7",
   "metadata": {},
   "outputs": [
    {
     "data": {
      "text/plain": [
       "{2: <Book:    name 2>, 1: <Book: naME 1.   >}"
      ]
     },
     "execution_count": 55,
     "metadata": {},
     "output_type": "execute_result"
    }
   ],
   "source": [
    "# in_bulk\n",
    "Book.objects.in_bulk([1, 2], field_name=\"pk\")"
   ]
  },
  {
   "cell_type": "markdown",
   "id": "0b388f3f",
   "metadata": {},
   "source": [
    "Cache\n",
    "---"
   ]
  },
  {
   "cell_type": "code",
   "execution_count": 3,
   "id": "bdf27882",
   "metadata": {},
   "outputs": [],
   "source": [
    "import requests"
   ]
  },
  {
   "cell_type": "code",
   "execution_count": 7,
   "id": "866db85e",
   "metadata": {},
   "outputs": [
    {
     "name": "stdout",
     "output_type": "stream",
     "text": [
      "1 Content-Type application/json\n",
      "2 Last-Modified Mon, 10 Jan 2022 10:20:10 GMT\n",
      "3 ETag \"test_etag\"\n",
      "4 Vary Accept, Cookie\n",
      "5 Allow GET, HEAD, OPTIONS\n",
      "6 Server-Timing TimerPanel_utime;dur=533.9550000000002;desc=\"User CPU time\", TimerPanel_stime;dur=314.07099999999997;desc=\"System CPU time\", TimerPanel_total;dur=848.0260000000001;desc=\"Total CPU time\", TimerPanel_total_time;dur=710.7770442962646;desc=\"Elapsed time\", SQLPanel_sql_time;dur=1.5139579772949219;desc=\"SQL 1 queries\", CachePanel_total_time;dur=0;desc=\"Cache 0 Calls\"\n",
      "7 X-Frame-Options DENY\n",
      "8 Content-Length 746\n",
      "9 X-Content-Type-Options nosniff\n",
      "10 Referrer-Policy same-origin\n",
      "11 Server Werkzeug/2.0.2 Python/3.9.9\n",
      "12 Date Sun, 16 Jan 2022 17:11:26 GMT\n"
     ]
    }
   ],
   "source": [
    "response = requests.get(\"http://localhost:8000/hotel/api_v1/list_ordered_room/\")\n",
    "for index , (key, value) in enumerate(response.headers.items(), 1):\n",
    "    print(index, key, value)"
   ]
  },
  {
   "cell_type": "code",
   "execution_count": 8,
   "id": "27272b28",
   "metadata": {},
   "outputs": [
    {
     "data": {
      "text/plain": [
       "<Response [304]>"
      ]
     },
     "execution_count": 8,
     "metadata": {},
     "output_type": "execute_result"
    }
   ],
   "source": [
    "requests.get(\n",
    "    \"http://localhost:8000/hotel/api_v1/list_ordered_room/\",\n",
    "    headers={\"If-None-Match\": '\"test_etag\"'}\n",
    ") # not Modified"
   ]
  },
  {
   "cell_type": "code",
   "execution_count": 24,
   "id": "1487853d",
   "metadata": {},
   "outputs": [
    {
     "data": {
      "text/plain": [
       "<Response [412]>"
      ]
     },
     "execution_count": 24,
     "metadata": {},
     "output_type": "execute_result"
    }
   ],
   "source": [
    "requests.get(\n",
    "    \"http://localhost:8000/hotel/api_v1/list_ordered_room/\",\n",
    "    headers={\"If-Match\": '\"test_etag111\"'}\n",
    ") # Precondition Failed"
   ]
  },
  {
   "cell_type": "code",
   "execution_count": 25,
   "id": "65795222",
   "metadata": {},
   "outputs": [
    {
     "data": {
      "text/plain": [
       "<Response [304]>"
      ]
     },
     "execution_count": 25,
     "metadata": {},
     "output_type": "execute_result"
    }
   ],
   "source": [
    "requests.get(\n",
    "    \"http://localhost:8000/hotel/api_v1/list_ordered_room/\",\n",
    "    headers={\"If-Modified-Since\": 'Mon, 10 Jan 2022 10:20:10 GMT'}\n",
    ") # not Modified"
   ]
  },
  {
   "cell_type": "code",
   "execution_count": 30,
   "id": "52ddea47",
   "metadata": {},
   "outputs": [
    {
     "data": {
      "text/plain": [
       "<Response [412]>"
      ]
     },
     "execution_count": 30,
     "metadata": {},
     "output_type": "execute_result"
    }
   ],
   "source": [
    "requests.get(\n",
    "    \"http://localhost:8000/hotel/api_v1/list_ordered_room/\",\n",
    "    headers={\"If-Unmodified-Since\": 'Mon, 09 Jan 2022 10:20:10 GMT'}\n",
    ") # Precondition Failed"
   ]
  }
 ],
 "metadata": {
  "kernelspec": {
   "display_name": "Django Shell-Plus",
   "language": "python",
   "name": "django_extensions"
  },
  "language_info": {
   "codemirror_mode": {
    "name": "ipython",
    "version": 3
   },
   "file_extension": ".py",
   "mimetype": "text/x-python",
   "name": "python",
   "nbconvert_exporter": "python",
   "pygments_lexer": "ipython3",
   "version": "3.9.9"
  }
 },
 "nbformat": 4,
 "nbformat_minor": 5
}
