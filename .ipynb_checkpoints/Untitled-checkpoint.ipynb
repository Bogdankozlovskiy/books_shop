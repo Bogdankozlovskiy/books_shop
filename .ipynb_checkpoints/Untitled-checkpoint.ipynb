{
 "cells": [
  {
   "cell_type": "code",
   "execution_count": 1,
   "id": "313cc278",
   "metadata": {},
   "outputs": [],
   "source": [
    "import os\n",
    "os.environ[\"DJANGO_ALLOW_ASYNC_UNSAFE\"] = \"true\""
   ]
  },
  {
   "cell_type": "code",
   "execution_count": 4,
   "id": "ce58bf11",
   "metadata": {},
   "outputs": [],
   "source": [
    "from hotel.models import OrderRoom\n",
    "from django.db.models import F\n",
    "from django.db.models.functions import ExtractDay"
   ]
  },
  {
   "cell_type": "code",
   "execution_count": 9,
   "id": "29e032b0",
   "metadata": {},
   "outputs": [
    {
     "data": {
      "text/plain": [
       "Decimal('172.80')"
      ]
     },
     "execution_count": 9,
     "metadata": {},
     "output_type": "execute_result"
    }
   ],
   "source": [
    "query_set = OrderRoom.objects.annotate(duration_days_ = ExtractDay(F('end_date') - F('start_date')))\\\n",
    ".annotate(total_price_=F(\"price\") * F(\"duration_days_\"))\n",
    "\n",
    "query_set.first().total_price_"
   ]
  },
  {
   "cell_type": "code",
   "execution_count": 2,
   "id": "0fe0f9fd",
   "metadata": {},
   "outputs": [],
   "source": [
    "from myapp.models import Book"
   ]
  },
  {
   "cell_type": "code",
   "execution_count": 3,
   "id": "c8143faf",
   "metadata": {},
   "outputs": [],
   "source": [
    "t = Book.objects.all().first()"
   ]
  },
  {
   "cell_type": "code",
   "execution_count": 4,
   "id": "89924fe1",
   "metadata": {},
   "outputs": [
    {
     "data": {
      "text/plain": [
       "<Book: name 2>"
      ]
     },
     "execution_count": 4,
     "metadata": {},
     "output_type": "execute_result"
    }
   ],
   "source": [
    "t.get_next_by_publish_date()"
   ]
  },
  {
   "cell_type": "code",
   "execution_count": 6,
   "id": "c06c4ad2",
   "metadata": {},
   "outputs": [
    {
     "data": {
      "text/plain": [
       "set()"
      ]
     },
     "execution_count": 6,
     "metadata": {},
     "output_type": "execute_result"
    }
   ],
   "source": [
    "t.get_deferred_fields()"
   ]
  },
  {
   "cell_type": "code",
   "execution_count": 12,
   "id": "b493fdb3",
   "metadata": {},
   "outputs": [
    {
     "data": {
      "text/plain": [
       "<Book: name 2>"
      ]
     },
     "execution_count": 12,
     "metadata": {},
     "output_type": "execute_result"
    }
   ],
   "source": [
    "t.get_previous_by_publish_date(is_next=9)"
   ]
  },
  {
   "cell_type": "code",
   "execution_count": null,
   "id": "9a4173c6",
   "metadata": {},
   "outputs": [],
   "source": []
  },
  {
   "cell_type": "code",
   "execution_count": null,
   "id": "e2a96107",
   "metadata": {},
   "outputs": [],
   "source": []
  }
 ],
 "metadata": {
  "kernelspec": {
   "display_name": "Django Shell-Plus",
   "language": "python",
   "name": "django_extensions"
  },
  "language_info": {
   "codemirror_mode": {
    "name": "ipython",
    "version": 3
   },
   "file_extension": ".py",
   "mimetype": "text/x-python",
   "name": "python",
   "nbconvert_exporter": "python",
   "pygments_lexer": "ipython3",
   "version": "3.9.9"
  }
 },
 "nbformat": 4,
 "nbformat_minor": 5
}
