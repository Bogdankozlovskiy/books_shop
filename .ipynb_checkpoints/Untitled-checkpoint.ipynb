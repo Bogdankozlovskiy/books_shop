{
 "cells": [
  {
   "cell_type": "code",
   "execution_count": 1,
   "id": "313cc278",
   "metadata": {},
   "outputs": [],
   "source": [
    "import os\n",
    "os.environ[\"DJANGO_ALLOW_ASYNC_UNSAFE\"] = \"true\""
   ]
  },
  {
   "cell_type": "code",
   "execution_count": 2,
   "id": "8680ea22",
   "metadata": {},
   "outputs": [],
   "source": [
    "from web_chat.models import ChatMessage\n",
    "from web_chat.serializers import ChatMessageSerializer"
   ]
  },
  {
   "cell_type": "code",
   "execution_count": 29,
   "id": "3998a9ad",
   "metadata": {},
   "outputs": [],
   "source": [
    "from rest_framework.serializers import ModelSerializer, DateTimeField, CharField\n",
    "\n",
    "class ChatMessageSerializer(ModelSerializer):\n",
    "    date = DateTimeField(read_only=True, format=\"%d %B %Y y. %H:%M\")\n",
    "    user = CharField(source=\"user.username\")\n",
    "\n",
    "    class Meta:\n",
    "        model = ChatMessage\n",
    "        fields = [\"text\", \"date\", \"user\"]"
   ]
  },
  {
   "cell_type": "code",
   "execution_count": 30,
   "id": "b20541e8",
   "metadata": {},
   "outputs": [
    {
     "data": {
      "text/plain": [
       "{'text': 'hello', 'date': '30 December 2021 y. 17:23', 'user': 'bogdan'}"
      ]
     },
     "execution_count": 30,
     "metadata": {},
     "output_type": "execute_result"
    }
   ],
   "source": [
    "msg = ChatMessage.objects.all().first()\n",
    "\n",
    "\n",
    "ChatMessageSerializer(msg).data"
   ]
  },
  {
   "cell_type": "code",
   "execution_count": 2,
   "id": "15d2f5f8",
   "metadata": {},
   "outputs": [],
   "source": [
    "from myapp.tasks import add"
   ]
  },
  {
   "cell_type": "code",
   "execution_count": 3,
   "id": "ac997110",
   "metadata": {},
   "outputs": [
    {
     "data": {
      "text/plain": [
       "13"
      ]
     },
     "execution_count": 3,
     "metadata": {},
     "output_type": "execute_result"
    }
   ],
   "source": [
    "add(6,7)"
   ]
  },
  {
   "cell_type": "code",
   "execution_count": 4,
   "id": "ebe4be37",
   "metadata": {},
   "outputs": [],
   "source": [
    "res = add.delay(5,6)"
   ]
  },
  {
   "cell_type": "code",
   "execution_count": 5,
   "id": "269b9483",
   "metadata": {},
   "outputs": [
    {
     "data": {
      "text/plain": [
       "'SUCCESS'"
      ]
     },
     "execution_count": 5,
     "metadata": {},
     "output_type": "execute_result"
    }
   ],
   "source": [
    "res.status"
   ]
  },
  {
   "cell_type": "code",
   "execution_count": 6,
   "id": "73fb010f",
   "metadata": {},
   "outputs": [
    {
     "data": {
      "text/plain": [
       "11"
      ]
     },
     "execution_count": 6,
     "metadata": {},
     "output_type": "execute_result"
    }
   ],
   "source": [
    "res.result"
   ]
  },
  {
   "cell_type": "code",
   "execution_count": null,
   "id": "6fb73aed",
   "metadata": {},
   "outputs": [],
   "source": []
  }
 ],
 "metadata": {
  "kernelspec": {
   "display_name": "Django Shell-Plus",
   "language": "python",
   "name": "django_extensions"
  },
  "language_info": {
   "codemirror_mode": {
    "name": "ipython",
    "version": 3
   },
   "file_extension": ".py",
   "mimetype": "text/x-python",
   "name": "python",
   "nbconvert_exporter": "python",
   "pygments_lexer": "ipython3",
   "version": "3.9.9"
  }
 },
 "nbformat": 4,
 "nbformat_minor": 5
}
